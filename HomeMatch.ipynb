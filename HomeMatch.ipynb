{
 "cells": [
  {
   "cell_type": "markdown",
   "id": "a108af04",
   "metadata": {},
   "source": [
    "This is a starter notebook for the project, you'll have to import the libraries you'll need, you can find a list of the ones available in this workspace in the requirements.txt file in this workspace. "
   ]
  },
  {
   "cell_type": "code",
   "execution_count": 2,
   "id": "f75fa18d",
   "metadata": {},
   "outputs": [
    {
     "name": "stdout",
     "output_type": "stream",
     "text": [
      "Defaulting to user installation because normal site-packages is not writeable\n",
      "Collecting pandas\n",
      "  Downloading pandas-2.2.3-cp310-cp310-manylinux_2_17_x86_64.manylinux2014_x86_64.whl (13.1 MB)\n",
      "\u001b[2K     \u001b[90m━━━━━━━━━━━━━━━━━━━━━━━━━━━━━━━━━━━━━━━━\u001b[0m \u001b[32m13.1/13.1 MB\u001b[0m \u001b[31m49.5 MB/s\u001b[0m eta \u001b[36m0:00:00\u001b[0m00:01\u001b[0m0:01\u001b[0m\n",
      "\u001b[?25hRequirement already satisfied: python-dateutil>=2.8.2 in /opt/conda/lib/python3.10/site-packages (from pandas) (2.9.0.post0)\n",
      "Collecting tzdata>=2022.7\n",
      "  Downloading tzdata-2025.1-py2.py3-none-any.whl (346 kB)\n",
      "\u001b[2K     \u001b[90m━━━━━━━━━━━━━━━━━━━━━━━━━━━━━━━━━━━━━━\u001b[0m \u001b[32m346.8/346.8 kB\u001b[0m \u001b[31m27.8 MB/s\u001b[0m eta \u001b[36m0:00:00\u001b[0m\n",
      "\u001b[?25hRequirement already satisfied: pytz>=2020.1 in /opt/conda/lib/python3.10/site-packages (from pandas) (2022.7)\n",
      "Requirement already satisfied: numpy>=1.22.4 in /opt/conda/lib/python3.10/site-packages (from pandas) (1.24.3)\n",
      "Requirement already satisfied: six>=1.5 in /opt/conda/lib/python3.10/site-packages (from python-dateutil>=2.8.2->pandas) (1.16.0)\n",
      "Installing collected packages: tzdata, pandas\n",
      "Successfully installed pandas-2.2.3 tzdata-2025.1\n"
     ]
    }
   ],
   "source": [
    "!pip install pandas"
   ]
  },
  {
   "cell_type": "code",
   "execution_count": 1,
   "id": "6554fd4c",
   "metadata": {},
   "outputs": [],
   "source": [
    "import os\n",
    "import numpy as np\n",
    "import pandas as pd\n",
    "\n",
    "os.environ[\"OPENAI_API_KEY\"] = \"YOUR API KEY\"\n",
    "os.environ[\"OPENAI_API_BASE\"] = \"https://openai.vocareum.com/v1\"\n",
    "\n",
    "from langchain.llms import OpenAI\n",
    "from langchain.chat_models import ChatOpenAI"
   ]
  },
  {
   "cell_type": "code",
   "execution_count": 15,
   "id": "3b9c682e",
   "metadata": {
    "scrolled": false
   },
   "outputs": [
    {
     "name": "stdout",
     "output_type": "stream",
     "text": [
      "          Neighborhood       Price Bedrooms Bathrooms  House Size  \\\n",
      "0      Oakwood Estates  $1,500,000        6       4.5  4,200 sqft   \n",
      "1  Cedar Grove Heights    $950,000        4       3.5  2,800 sqft   \n",
      "2    Harborview Bluffs  $1,450,000        6         5  3,800 sqft   \n",
      "3      Pinecrest Grove    $700,000        3       2.5  2,200 sqft   \n",
      "4    Harbor View Hills    $950,000        4         3  2,500 sqft   \n",
      "5   Riverfront Estates  $1,500,000        6         5  4,000 sqft   \n",
      "6          Cedar Ridge    $950,000        4         3  2,500 sqft   \n",
      "7      Pinecrest Woods    $950,000        4         3  2,500 sqft   \n",
      "8    Riverbend Estates  $1,450,000        6         5  4,500 sqft   \n",
      "9  Harbor View Estates  $1,500,000        6       5.5  4,200 sqft   \n",
      "\n",
      "                                         Description  \\\n",
      "0  Discover unparalleled sophistication in this e...   \n",
      "1  Step into luxury and comfort in this exquisite...   \n",
      "2  Indulge in luxury living in the prestigious Ha...   \n",
      "3  Embrace comfort in this inviting 3-bedroom, 2....   \n",
      "4  Welcome to your waterfront retreat in the sere...   \n",
      "5  Indulge in luxury living in this expansive 6-b...   \n",
      "6  Step into luxury living in this 4-bedroom, 3-b...   \n",
      "7  Step into this modern yet inviting 4-bedroom, ...   \n",
      "8  Step into luxury in this sprawling 6-bedroom, ...   \n",
      "9  Nestled in the exclusive community of Harbor V...   \n",
      "\n",
      "                            Neighborhood Description  \n",
      "0  Oakwood Estates is a prestigious community kno...  \n",
      "1  Cedar Grove Heights is renowned for its upscal...  \n",
      "2  Harborview Bluffs is synonymous with luxury li...  \n",
      "3  Pinecrest Grove offers a peaceful, family-frie...  \n",
      "4  Harbor View Hills is a coveted coastal communi...  \n",
      "5  Riverfront Estates epitomizes luxury living wi...  \n",
      "6  Cedar Ridge is a serene, upscale enclave known...  \n",
      "7  Pinecrest Woods offers a peaceful retreat from...  \n",
      "8  Riverbend Estates is known for its upscale pro...  \n",
      "9  Harbor View Estates offers a blend of prestigi...  \n"
     ]
    }
   ],
   "source": [
    "from langchain.schema import SystemMessage, HumanMessage\n",
    "# Instantiate the ChatOpenAI model\n",
    "llm = ChatOpenAI(\n",
    "    model_name=\"gpt-3.5-turbo\",\n",
    "    temperature=1.2,\n",
    "    max_tokens=2048\n",
    ")\n",
    "\n",
    "# Define system and human messages using the proper classes\n",
    "system_message = SystemMessage(\n",
    "    content=(\n",
    "        \"Please generate a unique real estate listing with different neighborhood names, prices, and house descriptions. \"\n",
    "        \"Avoid using the same phrases and try different writing styles. \"\n",
    "        \"Ensure that no two listings are too similar.\"\n",
    "    )\n",
    ")\n",
    "\n",
    "human_message = HumanMessage(\n",
    "    content=(\n",
    "        \"Please generate a real estate listing similar to the following format:\\n\\n\"\n",
    "        \"Neighborhood: Green Oaks\\n\"\n",
    "        \"Price: $800,000\\n\"\n",
    "        \"Bedrooms: 3\\n\"\n",
    "        \"Bathrooms: 2\\n\"\n",
    "        \"House Size: 2,000 sqft\\n\\n\"\n",
    "        \"Description: Welcome to this eco-friendly oasis nestled in the heart of Green Oaks. \"\n",
    "        \"This charming 3-bedroom, 2-bathroom home boasts energy-efficient features such as solar panels and a well-insulated structure. \"\n",
    "        \"Natural light floods the living spaces, highlighting the beautiful hardwood floors and eco-conscious finishes. \"\n",
    "        \"The open-concept kitchen and dining area lead to a spacious backyard with a vegetable garden, perfect for the eco-conscious family. \"\n",
    "        \"Embrace sustainable living without compromising on style in this Green Oaks gem.\\n\\n\"\n",
    "        \"Neighborhood Description: Green Oaks is a close-knit, environmentally-conscious community with access to organic grocery stores, \"\n",
    "        \"community gardens, and bike paths. Take a stroll through the nearby Green Oaks Park or grab a cup of coffee at the cozy Green Bean Cafe. \"\n",
    "        \"With easy access to public transportation and bike lanes, commuting is a breeze.\"\n",
    "        \n",
    "        \"Neighborhood: Willow Creek\\n\"\n",
    "        \"Price: $1,200,000\\n\"\n",
    "        \"Bedrooms: 5\\n\"\n",
    "        \"Bathrooms: 4\\n\"\n",
    "        \"House Size: 3,000 sqft\"\n",
    "        \"Description: Experience grandeur in this spectacular 5-bedroom, 4-bathroom residence located in the sought-after Willow Creek neighborhood. \"\n",
    "        \"Embrace the exquisite craftsmanship and attention to detail throughout this stately home, featuring a grand foyer, formal dining room, and a spacious family room with a cozy fireplace.\"\n",
    "        \"The gourmet chef's kitchen is a culinary oasis with high-end appliances and an oversized island for gatherings. The backyard retreat offers a sparkling pool, spa, and manicured gardens, providing the perfect setting for relaxing and entertaining.\"\n",
    "        \"Live lavishly in this Willow Creek treasure.\\n\"\n",
    "        \"Neighborhood Description: Willow Creek is known for its upscale estates, tree-lined streets, and proximity to top-rated schools and upscale shopping centers.\"\n",
    "        \"Spend weekends exploring the nearby Willow Creek Country Club or meander through the boutique shops at The Pier Shopping Plaza. Enjoy the convenience of fine dining and entertainment options just a stone's throw away, creating an ideal balance of luxury and livability in Willow Creek.\\n\"\n",
    "    )\n",
    ")\n",
    "\n",
    "df = pd.DataFrame(columns=[\"Neighborhood\", \"Price\", \"Bedrooms\", \"Bathrooms\", \"House Size\", \"Description\", \"Neighborhood Description\"])\n",
    "\n",
    "for _ in range(10):\n",
    "    response = llm.invoke([system_message, human_message])\n",
    "    generated_text = response.content\n",
    "    \n",
    "    estate_data = {}\n",
    "    for line in generated_text.split(\"\\n\"):\n",
    "        if \":\" in line:\n",
    "            key, value = line.split(\":\", 1)\n",
    "            estate_data[key.strip()] = value.strip()\n",
    "            \n",
    "    df = pd.concat([df, pd.DataFrame([estate_data])], ignore_index=True)\n",
    "    \n",
    "print(df)"
   ]
  },
  {
   "cell_type": "code",
   "execution_count": 16,
   "id": "5058d6ff",
   "metadata": {},
   "outputs": [],
   "source": [
    "df.to_csv(\"generated_listings.csv\", index=False)"
   ]
  },
  {
   "cell_type": "code",
   "execution_count": 27,
   "id": "ceaa18aa",
   "metadata": {},
   "outputs": [],
   "source": [
    "# Continue previous work\n",
    "df = pd.read_csv(\"generated_listings.csv\")"
   ]
  },
  {
   "cell_type": "code",
   "execution_count": 18,
   "id": "270455a2",
   "metadata": {},
   "outputs": [],
   "source": [
    "from langchain.vectorstores import Chroma\n",
    "from langchain.embeddings.openai import OpenAIEmbeddings\n",
    "from langchain.schema import Document\n",
    "\n",
    "embedding_function = OpenAIEmbeddings()\n",
    "\n",
    "chroma_db = Chroma(\n",
    "    collection_name=\"real_estate_listings\",\n",
    "    embedding_function=embedding_function,\n",
    "    persist_directory=\"./chroma_db\"\n",
    ")"
   ]
  },
  {
   "cell_type": "code",
   "execution_count": 19,
   "id": "6d280572",
   "metadata": {},
   "outputs": [
    {
     "name": "stdout",
     "output_type": "stream",
     "text": [
      "✅ All estate listing has been saved in ChromaDB！\n"
     ]
    }
   ],
   "source": [
    "def store_listings_in_chroma(df):\n",
    "    documents = []\n",
    "    \n",
    "    for _, row in df.iterrows():\n",
    "        listing_text = f\"\"\"\n",
    "        Neighborhood: {row['Neighborhood']}\n",
    "        Price: {row['Price']}\n",
    "        Bedrooms: {row['Bedrooms']}\n",
    "        Bathrooms: {row['Bathrooms']}\n",
    "        House Size: {row['House Size']}\n",
    "        Description: {row['Description']}\n",
    "        Neighborhood Description: {row['Neighborhood Description']}\n",
    "        \"\"\"\n",
    "        doc = Document(page_content=listing_text, metadata=row.to_dict())  \n",
    "        documents.append(doc)\n",
    "\n",
    "    chroma_db.add_documents(documents)\n",
    "    print(\"✅ All estate listing has been saved in ChromaDB！\")\n",
    "\n",
    "store_listings_in_chroma(df)"
   ]
  },
  {
   "cell_type": "code",
   "execution_count": 20,
   "id": "9b0d3783",
   "metadata": {},
   "outputs": [],
   "source": [
    "questions = [   \n",
    "                \"How big do you want your house to be?\" \n",
    "                \"What are 3 most important things for you in choosing this property?\", \n",
    "                \"Which amenities would you like?\", \n",
    "                \"Which transportation options are important to you?\",\n",
    "                \"How urban do you want your neighborhood to be?\",   \n",
    "            ]\n",
    "preset_answers = [\n",
    "                \"A comfortable four-bedroom house with a spacious kitchen and a cozy living room.\",\n",
    "                \"A quiet neighborhood, good local schools, and convenient shopping options.\",\n",
    "                \"A backyard for gardening, a two-car garage, and a modern, energy-efficient heating system.\",\n",
    "                \"Easy access to a reliable bus line, proximity to a major highway, and bike-friendly roads.\",\n",
    "                \"A balance between suburban tranquility and access to urban amenities like restaurants and theaters.\"\n",
    "            ]"
   ]
  },
  {
   "cell_type": "code",
   "execution_count": 21,
   "id": "ac900ea2",
   "metadata": {},
   "outputs": [
    {
     "name": "stdout",
     "output_type": "stream",
     "text": [
      "\n",
      "🏠 Recommended estate listings:\n",
      "\n",
      " Estates 1:\n",
      "\n",
      "        Neighborhood: Maple Grove\n",
      "        Price: $950,000\n",
      "        Bedrooms: 4\n",
      "        Bathrooms: 3\n",
      "        House Size: 2,500 sqft\n",
      "        Description: Step into this meticulously renovated 4-bedroom, 3-bathroom home in the desirable Maple Grove neighborhood. This residence exudes modern elegance with a touch of rustic charm. The open-concept living area features vaulted ceilings, large windows, and a cozy fireplace. The gourmet kitchen is a chef's dream, complete with stainless steel appliances and quartz countertops. Retreat to the master suite with a spa-like ensuite bathroom and a private balcony overlooking the lush backyard oasis. Entertain guests in the landscaped outdoor space with a fire pit and built-in BBQ area. Embrace luxury living in Maple Grove.\n",
      "        Neighborhood Description: Maple Grove is a serene neighborhood known for its tree-lined streets, friendly atmosphere, and easy access to parks and walking trails. Enjoy a morning jog at the nearby Maple Grove Park or have a picnic at the community green space. Indulge in local eateries and boutique shops just a short distance away, providing the perfect blend of suburban tranquility and urban convenience.\n",
      "        \n",
      " Metadata: {'Bathrooms': '3', 'Bedrooms': '4', 'Description': \"Step into this meticulously renovated 4-bedroom, 3-bathroom home in the desirable Maple Grove neighborhood. This residence exudes modern elegance with a touch of rustic charm. The open-concept living area features vaulted ceilings, large windows, and a cozy fireplace. The gourmet kitchen is a chef's dream, complete with stainless steel appliances and quartz countertops. Retreat to the master suite with a spa-like ensuite bathroom and a private balcony overlooking the lush backyard oasis. Entertain guests in the landscaped outdoor space with a fire pit and built-in BBQ area. Embrace luxury living in Maple Grove.\", 'House Size': '2,500 sqft', 'Neighborhood': 'Maple Grove', 'Neighborhood Description': 'Maple Grove is a serene neighborhood known for its tree-lined streets, friendly atmosphere, and easy access to parks and walking trails. Enjoy a morning jog at the nearby Maple Grove Park or have a picnic at the community green space. Indulge in local eateries and boutique shops just a short distance away, providing the perfect blend of suburban tranquility and urban convenience.', 'Price': '$950,000'}\n"
     ]
    }
   ],
   "source": [
    "user_query = \" \".join(preset_answers)\n",
    "\n",
    "k = 1\n",
    "\n",
    "matching_listings = chroma_db.similarity_search(user_query, k)\n",
    "\n",
    "print(\"\\n🏠 Recommended estate listings:\")\n",
    "for i, result in enumerate(matching_listings):\n",
    "    print(f\"\\n Estates {i+1}:\")\n",
    "    print(result.page_content)\n",
    "    print(f\" Metadata: {result.metadata}\")"
   ]
  },
  {
   "cell_type": "markdown",
   "id": "e7da5212",
   "metadata": {},
   "source": [
    "Step 6: Personalizing Listing Descriptions"
   ]
  },
  {
   "cell_type": "code",
   "execution_count": 23,
   "id": "c90ba7fa",
   "metadata": {},
   "outputs": [
    {
     "name": "stdout",
     "output_type": "stream",
     "text": [
      "\n",
      "🏡 **Personalized Real Estate Listing:**\n",
      " **Neighborhood:** Maple Grove\n",
      " **Price:** $950,000\n",
      " **Bedrooms:** 4, 🛁 **Bathrooms:** 3\n",
      " **Size:** 2,500 sqft sqft\n",
      " **Customized Description:** Located in the peaceful Maple Grove neighborhood, this inviting 4-bedroom, 3-bathroom home is priced at $950,000 and offers 2,500 sqft of living space. The residence boasts a spacious kitchen perfect for cooking enthusiasts, featuring stainless steel appliances and quartz countertops. The cozy living room with vaulted ceilings and a fireplace provides a welcoming retreat. The house includes a backyard ready for gardening, a two-car garage, and a modern, energy-efficient heating system for comfortable living. Situated in a quiet area with good local schools and convenient shopping options, this home also provides easy access to a reliable bus line, a nearby major highway, and bike-friendly roads. Enjoy a balance of suburban tranquility and urban amenities like restaurants and theaters in this ideal location. Don't miss the chance to make this Maple Grove gem your new home!\n"
     ]
    }
   ],
   "source": [
    "from langchain.chat_models import ChatOpenAI\n",
    "from langchain.schema import SystemMessage, HumanMessage\n",
    "\n",
    "llm = ChatOpenAI(\n",
    "    model_name = \"gpt-3.5-turbo\",\n",
    "    temperature = 1,\n",
    "    max_tokens = 256\n",
    ")\n",
    "\n",
    "top_listing = matching_listings[0]\n",
    "metadata = top_listing.metadata\n",
    "\n",
    "system_message = SystemMessage(\n",
    "    content = \"You are a real estate expert. Based on a given property listing and a buyer's preferences, rewrite the listing description to better highlight features important to the buyer. Do not alter factual information.\"\n",
    ")\n",
    "\n",
    "human_message = HumanMessage(\n",
    "    content=f\"Buyer Preferences: {user_query}\\n\\n\"\n",
    "            f\"Original Listing:\\n\"\n",
    "            f\"Neighborhood: {metadata['Neighborhood']}\\n\"\n",
    "            f\"Price: {metadata['Price']}\\n\"\n",
    "            f\"Bedrooms: {metadata['Bedrooms']}\\n\"\n",
    "            f\"Bathrooms: {metadata['Bathrooms']}\\n\"\n",
    "            f\"House Size: {metadata['House Size']}\\n\"\n",
    "            f\"Description: {metadata['Description']}\\n\"\n",
    "            f\"Neighborhood Description: {metadata['Neighborhood Description']}\\n\\n\"\n",
    "            f\"Please rewrite the description to emphasize aspects that align with the buyer's preferences.\"\n",
    ")\n",
    "\n",
    "personalized_description = llm([system_message, human_message]).content\n",
    "\n",
    "print(\"\\n🏡 **Personalized Real Estate Listing:**\")\n",
    "print(f\" **Neighborhood:** {metadata['Neighborhood']}\")\n",
    "print(f\" **Price:** {metadata['Price']}\")\n",
    "print(f\" **Bedrooms:** {metadata['Bedrooms']}, 🛁 **Bathrooms:** {metadata['Bathrooms']}\")\n",
    "print(f\" **Size:** {metadata['House Size']} sqft\")\n",
    "print(f\" **Customized Description:** {personalized_description}\")"
   ]
  },
  {
   "cell_type": "markdown",
   "id": "786e220f",
   "metadata": {},
   "source": [
    "Recheck the buyer Preferences, \n",
    "\"A comfortable three-bedroom house with a spacious kitchen and a cozy living room.\",\n",
    "\"A quiet neighborhood, good local schools, and convenient shopping options.\",\n",
    "\"A backyard for gardening, a two-car garage, and a modern, energy-efficient heating system.\",\n",
    "\"Easy access to a reliable bus line, proximity to a major highway, and bike-friendly roads.\",\n",
    "\"A balance between suburban tranquility and access to urban amenities like restaurants and theaters.\"\n",
    "\n",
    "We can find it works."
   ]
  },
  {
   "cell_type": "markdown",
   "id": "00e593e9",
   "metadata": {},
   "source": [
    "Step into luxury in this sprawling 6-bedroom, 5-bathroom estate situated in the prestigious Riverbend Estates neighborhood. This magnificent residence exudes sophistication and grandeur, boasting elegant finishes, high ceilings, and expansive living areas. The grand foyer welcomes you into a home designed for both comfort and style, featuring a gourmet kitchen with top-of-the-line appliances, a formal dining room for hosting lavish soirées, and a cozy family room with a stone fireplace. Escape to the lavish master suite retreat with a spa-like bathroom and private balcony overlooking the manicured grounds. Outdoor entertainment abounds with a covered patio, sparkling pool, and lush landscaping, creating a resort-like atmosphere perfect for gatherings and relaxation.\",\n",
    "\n",
    "\n",
    "Riverbend Estates is known for its upscale properties, riverside views, and exclusivity. Enjoy a prestigious lifestyle with access to the nearby Riverbend Golf Club, upscale dining options, and luxury boutiques. Take a leisurely stroll along the riverfront or spend weekends hosting elegant events in your own private estate. Experience the epitome of luxury living in Riverbend Estates.\""
   ]
  },
  {
   "cell_type": "code",
   "execution_count": 41,
   "id": "e4e763b4",
   "metadata": {},
   "outputs": [],
   "source": [
    "different_answers = [\n",
    "                \"I’m looking for a spacious home with six bedrooms and five bathrooms to accommodate my family and guests comfortably, offering plenty of room for both private retreats and entertaining.\"\n",
    "                \"The three most important factors for me are luxury finishes, ample living space, and a prime location in an exclusive neighborhood like Riverbend Estates.\"\n",
    "                \"I would love to have a gourmet kitchen, a stone fireplace in the family room, a spa-like master suite, and a backyard with a pool and covered patio for outdoor entertainment.\"\n",
    "                \"I value easy access to major roads, as well as proximity to public transportation options like bus lines or bike-friendly routes, making commuting convenient.\"\n",
    "                \"I prefer a tranquil, suburban setting that still offers easy access to urban amenities, such as restaurants, theaters, and shopping centers, for a perfect balance of peace and convenience.\"\n",
    "            ]"
   ]
  },
  {
   "cell_type": "code",
   "execution_count": 42,
   "id": "180d5a06",
   "metadata": {},
   "outputs": [
    {
     "name": "stdout",
     "output_type": "stream",
     "text": [
      "\n",
      "🏠 Recommended estate listings:\n",
      "\n",
      " Estates 1:\n",
      "\n",
      "        Neighborhood: Riverbend Estates\n",
      "        Price: $1,450,000\n",
      "        Bedrooms: 6\n",
      "        Bathrooms: 5.0\n",
      "        House Size: 4,500 sqft\n",
      "        Description: Step into luxury in this sprawling 6-bedroom, 5-bathroom estate situated in the prestigious Riverbend Estates neighborhood. This magnificent residence exudes sophistication and grandeur, boasting elegant finishes, high ceilings, and expansive living areas. The grand foyer welcomes you into a home designed for both comfort and style, featuring a gourmet kitchen with top-of-the-line appliances, a formal dining room for hosting lavish soirées, and a cozy family room with a stone fireplace. Escape to the lavish master suite retreat with a spa-like bathroom and private balcony overlooking the manicured grounds. Outdoor entertainment abounds with a covered patio, sparkling pool, and lush landscaping, creating a resort-like atmosphere perfect for gatherings and relaxation.\n",
      "        Neighborhood Description: Riverbend Estates is known for its upscale properties, riverside views, and exclusivity. Enjoy a prestigious lifestyle with access to the nearby Riverbend Golf Club, upscale dining options, and luxury boutiques. Take a leisurely stroll along the riverfront or spend weekends hosting elegant events in your own private estate. Experience the epitome of luxury living in Riverbend Estates.\n",
      "        \n",
      " Metadata: {'Bathrooms': 5.0, 'Bedrooms': 6, 'Description': 'Step into luxury in this sprawling 6-bedroom, 5-bathroom estate situated in the prestigious Riverbend Estates neighborhood. This magnificent residence exudes sophistication and grandeur, boasting elegant finishes, high ceilings, and expansive living areas. The grand foyer welcomes you into a home designed for both comfort and style, featuring a gourmet kitchen with top-of-the-line appliances, a formal dining room for hosting lavish soirées, and a cozy family room with a stone fireplace. Escape to the lavish master suite retreat with a spa-like bathroom and private balcony overlooking the manicured grounds. Outdoor entertainment abounds with a covered patio, sparkling pool, and lush landscaping, creating a resort-like atmosphere perfect for gatherings and relaxation.', 'House Size': '4,500 sqft', 'Neighborhood': 'Riverbend Estates', 'Neighborhood Description': 'Riverbend Estates is known for its upscale properties, riverside views, and exclusivity. Enjoy a prestigious lifestyle with access to the nearby Riverbend Golf Club, upscale dining options, and luxury boutiques. Take a leisurely stroll along the riverfront or spend weekends hosting elegant events in your own private estate. Experience the epitome of luxury living in Riverbend Estates.', 'Price': '$1,450,000'}\n"
     ]
    }
   ],
   "source": [
    "user_query = \" \".join(different_answers)\n",
    "\n",
    "k = 1\n",
    "\n",
    "matching_listings = chroma_db.similarity_search(user_query, k)\n",
    "\n",
    "print(\"\\n🏠 Recommended estate listings:\")\n",
    "for i, result in enumerate(matching_listings):\n",
    "    print(f\"\\n Estates {i+1}:\")\n",
    "    print(result.page_content)\n",
    "    print(f\" Metadata: {result.metadata}\")"
   ]
  },
  {
   "cell_type": "code",
   "execution_count": 43,
   "id": "e8decd5d",
   "metadata": {},
   "outputs": [
    {
     "name": "stdout",
     "output_type": "stream",
     "text": [
      "\n",
      "🏡 **Personalized Real Estate Listing:**\n",
      " **Neighborhood:** Riverbend Estates\n",
      " **Price:** $1,450,000\n",
      " **Bedrooms:** 6, 🛁 **Bathrooms:** 5.0\n",
      " **Size:** 4,500 sqft sqft\n",
      " **Customized Description:** Immerse yourself in opulence within this expansive 6-bedroom, 5-bathroom haven nestled in the sought-after Riverbend Estates enclave, priced at $1,450,000. This lavish abode captures the essence of luxury living with upscale finishes and sprawling living spaces, offering an impressive 4,500 sqft of living area. The luxurious gourmet kitchen is a culinary masterpiece, complemented by a stunning stone fireplace in the family room for cozy gatherings.\n",
      "\n",
      "Indulge in the tranquility of the sumptuous master suite featuring a spa-like bathroom and a private balcony for serene moments. Outdoor entertainment awaits in the backyard oasis, complete with a sparkling pool and a covered patio, ideal for hosting guests or unwinding in style. \n",
      "\n",
      "Located in the prestigious Riverbend Estates neighborhood, this property grants exclusive access to upscale amenities, including the nearby Riverbend Golf Club and upscale dining venues. With a prime suburban location offering easy access to major roads and urban conveniences, revel in the perfect blend of peace and sophistication.\n"
     ]
    }
   ],
   "source": [
    "from langchain.chat_models import ChatOpenAI\n",
    "from langchain.schema import SystemMessage, HumanMessage\n",
    "\n",
    "llm = ChatOpenAI(\n",
    "    model_name = \"gpt-3.5-turbo\",\n",
    "    temperature = 1,\n",
    "    max_tokens = 256\n",
    ")\n",
    "\n",
    "top_listing = matching_listings[0]\n",
    "metadata = top_listing.metadata\n",
    "\n",
    "system_message = SystemMessage(\n",
    "    content = \"You are a real estate expert. Based on a given property listing and a buyer's preferences, rewrite the listing description to better highlight features important to the buyer. Do not alter factual information.\"\n",
    ")\n",
    "\n",
    "human_message = HumanMessage(\n",
    "    content=f\"Buyer Preferences: {user_query}\\n\\n\"\n",
    "            f\"Original Listing:\\n\"\n",
    "            f\"Neighborhood: {metadata['Neighborhood']}\\n\"\n",
    "            f\"Price: {metadata['Price']}\\n\"\n",
    "            f\"Bedrooms: {metadata['Bedrooms']}\\n\"\n",
    "            f\"Bathrooms: {metadata['Bathrooms']}\\n\"\n",
    "            f\"House Size: {metadata['House Size']}\\n\"\n",
    "            f\"Description: {metadata['Description']}\\n\"\n",
    "            f\"Neighborhood Description: {metadata['Neighborhood Description']}\\n\\n\"\n",
    "            f\"Please rewrite the description to emphasize aspects that align with the buyer's preferences.\"\n",
    ")\n",
    "\n",
    "personalized_description = llm([system_message, human_message]).content\n",
    "\n",
    "print(\"\\n🏡 **Personalized Real Estate Listing:**\")\n",
    "print(f\" **Neighborhood:** {metadata['Neighborhood']}\")\n",
    "print(f\" **Price:** {metadata['Price']}\")\n",
    "print(f\" **Bedrooms:** {metadata['Bedrooms']}, 🛁 **Bathrooms:** {metadata['Bathrooms']}\")\n",
    "print(f\" **Size:** {metadata['House Size']} sqft\")\n",
    "print(f\" **Customized Description:** {personalized_description}\")"
   ]
  },
  {
   "cell_type": "code",
   "execution_count": null,
   "id": "64fc915a",
   "metadata": {},
   "outputs": [],
   "source": []
  }
 ],
 "metadata": {
  "kernelspec": {
   "display_name": "Python 3 (ipykernel)",
   "language": "python",
   "name": "python3"
  },
  "language_info": {
   "codemirror_mode": {
    "name": "ipython",
    "version": 3
   },
   "file_extension": ".py",
   "mimetype": "text/x-python",
   "name": "python",
   "nbconvert_exporter": "python",
   "pygments_lexer": "ipython3",
   "version": "3.10.11"
  }
 },
 "nbformat": 4,
 "nbformat_minor": 5
}
